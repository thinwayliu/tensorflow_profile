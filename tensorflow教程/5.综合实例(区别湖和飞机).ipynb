{
 "cells": [
  {
   "cell_type": "code",
   "execution_count": 1,
   "metadata": {},
   "outputs": [],
   "source": [
    "import pandas as pd\n",
    "import numpy as np\n",
    "import matplotlib.pyplot as plt\n",
    "import tensorflow as tf\n",
    "import pathlib\n",
    "%matplotlib inline"
   ]
  },
  {
   "cell_type": "code",
   "execution_count": 2,
   "metadata": {},
   "outputs": [],
   "source": [
    "import os\n",
    "os.environ['KMP_DUPLICATE_LIB_OK']='True'"
   ]
  },
  {
   "cell_type": "code",
   "execution_count": 3,
   "metadata": {},
   "outputs": [],
   "source": [
    "data_dir = './dataset/2_class'"
   ]
  },
  {
   "cell_type": "code",
   "execution_count": 4,
   "metadata": {},
   "outputs": [],
   "source": [
    "data_root = pathlib.Path(data_dir)"
   ]
  },
  {
   "cell_type": "code",
   "execution_count": 5,
   "metadata": {},
   "outputs": [
    {
     "data": {
      "text/plain": [
       "PosixPath('dataset/2_class')"
      ]
     },
     "execution_count": 5,
     "metadata": {},
     "output_type": "execute_result"
    }
   ],
   "source": [
    "data_root"
   ]
  },
  {
   "cell_type": "code",
   "execution_count": 6,
   "metadata": {},
   "outputs": [
    {
     "name": "stdout",
     "output_type": "stream",
     "text": [
      "dataset/2_class/.DS_Store\n",
      "dataset/2_class/lake\n",
      "dataset/2_class/airplane\n"
     ]
    }
   ],
   "source": [
    "for item in data_root.iterdir():\n",
    "    print(item)"
   ]
  },
  {
   "cell_type": "code",
   "execution_count": 7,
   "metadata": {},
   "outputs": [],
   "source": [
    "all_image_path = list(data_root.glob('*/*'))"
   ]
  },
  {
   "cell_type": "code",
   "execution_count": 8,
   "metadata": {},
   "outputs": [
    {
     "data": {
      "text/plain": [
       "1400"
      ]
     },
     "execution_count": 8,
     "metadata": {},
     "output_type": "execute_result"
    }
   ],
   "source": [
    "len(all_image_path)"
   ]
  },
  {
   "cell_type": "code",
   "execution_count": 9,
   "metadata": {},
   "outputs": [
    {
     "data": {
      "text/plain": [
       "[PosixPath('dataset/2_class/airplane/airplane_074.jpg'),\n",
       " PosixPath('dataset/2_class/airplane/airplane_060.jpg')]"
      ]
     },
     "execution_count": 9,
     "metadata": {},
     "output_type": "execute_result"
    }
   ],
   "source": [
    "all_image_path[-2:]"
   ]
  },
  {
   "cell_type": "code",
   "execution_count": 10,
   "metadata": {},
   "outputs": [],
   "source": [
    "all_image_path = [str(path) for path in all_image_path]"
   ]
  },
  {
   "cell_type": "code",
   "execution_count": 11,
   "metadata": {},
   "outputs": [
    {
     "data": {
      "text/plain": [
       "['dataset/2_class/lake/lake_418.jpg',\n",
       " 'dataset/2_class/lake/lake_430.jpg',\n",
       " 'dataset/2_class/lake/lake_356.jpg',\n",
       " 'dataset/2_class/lake/lake_342.jpg',\n",
       " 'dataset/2_class/lake/lake_424.jpg',\n",
       " 'dataset/2_class/lake/lake_395.jpg']"
      ]
     },
     "execution_count": 11,
     "metadata": {},
     "output_type": "execute_result"
    }
   ],
   "source": [
    "all_image_path[10:16]"
   ]
  },
  {
   "cell_type": "code",
   "execution_count": 12,
   "metadata": {},
   "outputs": [],
   "source": [
    "import random"
   ]
  },
  {
   "cell_type": "code",
   "execution_count": 13,
   "metadata": {},
   "outputs": [],
   "source": [
    "random.shuffle(all_image_path)"
   ]
  },
  {
   "cell_type": "code",
   "execution_count": 14,
   "metadata": {},
   "outputs": [
    {
     "data": {
      "text/plain": [
       "['dataset/2_class/airplane/airplane_091.jpg',\n",
       " 'dataset/2_class/lake/lake_517.jpg']"
      ]
     },
     "execution_count": 14,
     "metadata": {},
     "output_type": "execute_result"
    }
   ],
   "source": [
    "all_image_path[10:12]"
   ]
  },
  {
   "cell_type": "code",
   "execution_count": 15,
   "metadata": {},
   "outputs": [],
   "source": [
    "image_count = len(all_image_path)"
   ]
  },
  {
   "cell_type": "code",
   "execution_count": 16,
   "metadata": {},
   "outputs": [
    {
     "data": {
      "text/plain": [
       "1400"
      ]
     },
     "execution_count": 16,
     "metadata": {},
     "output_type": "execute_result"
    }
   ],
   "source": [
    "image_count"
   ]
  },
  {
   "cell_type": "code",
   "execution_count": 17,
   "metadata": {},
   "outputs": [
    {
     "data": {
      "text/plain": [
       "['.DS_Store', 'airplane', 'lake']"
      ]
     },
     "execution_count": 17,
     "metadata": {},
     "output_type": "execute_result"
    }
   ],
   "source": [
    "label_names = sorted(item.name for item in data_root.glob(\"*/\"))\n",
    "label_names"
   ]
  },
  {
   "cell_type": "code",
   "execution_count": 18,
   "metadata": {},
   "outputs": [],
   "source": [
    "label_to_index = dict((name,index) for index,name in enumerate(label_names))"
   ]
  },
  {
   "cell_type": "code",
   "execution_count": 19,
   "metadata": {},
   "outputs": [
    {
     "data": {
      "text/plain": [
       "{'.DS_Store': 0, 'airplane': 1, 'lake': 2}"
      ]
     },
     "execution_count": 19,
     "metadata": {},
     "output_type": "execute_result"
    }
   ],
   "source": [
    "label_to_index"
   ]
  },
  {
   "cell_type": "code",
   "execution_count": 20,
   "metadata": {},
   "outputs": [],
   "source": [
    "all_image_label = []"
   ]
  },
  {
   "cell_type": "code",
   "execution_count": 21,
   "metadata": {},
   "outputs": [
    {
     "data": {
      "text/plain": [
       "'lake'"
      ]
     },
     "execution_count": 21,
     "metadata": {},
     "output_type": "execute_result"
    }
   ],
   "source": [
    "pathlib.Path('dataset/2_class/lake/lake_060.jpg').parent.name"
   ]
  },
  {
   "cell_type": "code",
   "execution_count": 22,
   "metadata": {},
   "outputs": [],
   "source": [
    "all_image_label = [label_to_index[pathlib.Path(p).parent.name] for p in all_image_path]"
   ]
  },
  {
   "cell_type": "code",
   "execution_count": 23,
   "metadata": {},
   "outputs": [
    {
     "data": {
      "text/plain": [
       "[2, 1, 1, 1, 1, 1, 1, 2, 1, 1]"
      ]
     },
     "execution_count": 23,
     "metadata": {},
     "output_type": "execute_result"
    }
   ],
   "source": [
    "all_image_label[20:30]"
   ]
  },
  {
   "cell_type": "code",
   "execution_count": 24,
   "metadata": {},
   "outputs": [
    {
     "data": {
      "text/plain": [
       "['dataset/2_class/lake/lake_318.jpg',\n",
       " 'dataset/2_class/airplane/airplane_370.jpg',\n",
       " 'dataset/2_class/airplane/airplane_656.jpg',\n",
       " 'dataset/2_class/airplane/airplane_384.jpg',\n",
       " 'dataset/2_class/airplane/airplane_207.jpg',\n",
       " 'dataset/2_class/airplane/airplane_619.jpg',\n",
       " 'dataset/2_class/airplane/airplane_335.jpg',\n",
       " 'dataset/2_class/lake/lake_028.jpg',\n",
       " 'dataset/2_class/airplane/airplane_578.jpg',\n",
       " 'dataset/2_class/airplane/airplane_064.jpg']"
      ]
     },
     "execution_count": 24,
     "metadata": {},
     "output_type": "execute_result"
    }
   ],
   "source": [
    "all_image_path[20:30]"
   ]
  },
  {
   "cell_type": "code",
   "execution_count": 25,
   "metadata": {},
   "outputs": [],
   "source": [
    "import IPython.display as display"
   ]
  },
  {
   "cell_type": "code",
   "execution_count": 26,
   "metadata": {},
   "outputs": [
    {
     "data": {
      "text/plain": [
       "{0: '.DS_Store', 1: 'airplane', 2: 'lake'}"
      ]
     },
     "execution_count": 26,
     "metadata": {},
     "output_type": "execute_result"
    }
   ],
   "source": [
    "index_to_label = dict((v,k) for k,v in label_to_index.items())\n",
    "index_to_label"
   ]
  },
  {
   "cell_type": "code",
   "execution_count": 27,
   "metadata": {},
   "outputs": [
    {
     "data": {
      "image/jpeg": "[encoded data removed]",
      "text/plain": [
       "<IPython.core.display.Image object>"
      ]
     },
     "metadata": {},
     "output_type": "display_data"
    },
    {
     "name": "stdout",
     "output_type": "stream",
     "text": [
      "airplane\n"
     ]
    },
    {
     "data": {
      "image/jpeg": "[encoded data removed]",
      "text/plain": [
       "<IPython.core.display.Image object>"
      ]
     },
     "metadata": {},
     "output_type": "display_data"
    },
    {
     "name": "stdout",
     "output_type": "stream",
     "text": [
      "airplane\n"
     ]
    },
    {
     "data": {
      "image/jpeg": "[encoded data removed]",
      "text/plain": [
       "<IPython.core.display.Image object>"
      ]
     },
     "metadata": {},
     "output_type": "display_data"
    },
    {
     "name": "stdout",
     "output_type": "stream",
     "text": [
      "airplane\n"
     ]
    }
   ],
   "source": [
    "for n in range(3):\n",
    "    image_index = random.choice(range(len(all_image_path)))\n",
    "    display.display(display.Image(all_image_path[image_index]))\n",
    "    print(index_to_label[all_image_label[image_index]])"
   ]
  },
  {
   "cell_type": "code",
   "execution_count": 28,
   "metadata": {},
   "outputs": [],
   "source": [
    "img_raw = tf.io.read_file(all_image_path[1])"
   ]
  },
  {
   "cell_type": "code",
   "execution_count": 29,
   "metadata": {},
   "outputs": [
    {
     "data": {
      "text/plain": [
       "tf.uint8"
      ]
     },
     "execution_count": 29,
     "metadata": {},
     "output_type": "execute_result"
    }
   ],
   "source": [
    "img_tensor = tf.image.decode_image(img_raw)\n",
    "img_tensor.dtype"
   ]
  },
  {
   "cell_type": "code",
   "execution_count": 30,
   "metadata": {},
   "outputs": [],
   "source": [
    "img_tensor = tf.cast(img_tensor,tf.float32)"
   ]
  },
  {
   "cell_type": "code",
   "execution_count": 31,
   "metadata": {},
   "outputs": [
    {
     "data": {
      "text/plain": [
       "1.0"
      ]
     },
     "execution_count": 31,
     "metadata": {},
     "output_type": "execute_result"
    }
   ],
   "source": [
    "img_tensor = img_tensor/255\n",
    "img_tensor.numpy().max()"
   ]
  },
  {
   "cell_type": "code",
   "execution_count": 32,
   "metadata": {},
   "outputs": [],
   "source": [
    "def load_preprocess_image(path):\n",
    "    img_raw = tf.io.read_file(path)\n",
    "    img_tensor =tf.image.decode_jpeg(img_raw,channels=3)\n",
    "    img_tensor = tf.image.resize(img_tensor,[256,256])\n",
    "    img_tensor = tf.cast(img_tensor,tf.float32)\n",
    "    img  = img_tensor/255\n",
    "    return img "
   ]
  },
  {
   "cell_type": "code",
   "execution_count": 33,
   "metadata": {},
   "outputs": [],
   "source": [
    "img_path  = all_image_path[100]"
   ]
  },
  {
   "cell_type": "code",
   "execution_count": 34,
   "metadata": {},
   "outputs": [],
   "source": [
    "img = load_preprocess_image(img_path)"
   ]
  },
  {
   "cell_type": "code",
   "execution_count": 35,
   "metadata": {},
   "outputs": [
    {
     "data": {
      "text/plain": [
       "<matplotlib.image.AxesImage at 0x7fe45faddf50>"
      ]
     },
     "execution_count": 35,
     "metadata": {},
     "output_type": "execute_result"
    },
    {
     "data": {
      "image/png": "[encoded data removed]",
      "text/plain": [
       "<Figure size 432x288 with 1 Axes>"
      ]
     },
     "metadata": {
      "needs_background": "light"
     },
     "output_type": "display_data"
    }
   ],
   "source": [
    "plt.imshow(img)"
   ]
  },
  {
   "cell_type": "code",
   "execution_count": 36,
   "metadata": {},
   "outputs": [],
   "source": [
    "path_ds = tf.data.Dataset.from_tensor_slices(all_image_path)"
   ]
  },
  {
   "cell_type": "code",
   "execution_count": 37,
   "metadata": {},
   "outputs": [],
   "source": [
    "image_dataset = path_ds.map(load_preprocess_image)"
   ]
  },
  {
   "cell_type": "code",
   "execution_count": 38,
   "metadata": {},
   "outputs": [],
   "source": [
    "label_ds = tf.data.Dataset.from_tensor_slices(all_image_label)"
   ]
  },
  {
   "cell_type": "code",
   "execution_count": 39,
   "metadata": {},
   "outputs": [
    {
     "name": "stdout",
     "output_type": "stream",
     "text": [
      "2\n",
      "1\n",
      "2\n",
      "2\n",
      "2\n",
      "2\n",
      "1\n",
      "1\n",
      "1\n",
      "2\n"
     ]
    }
   ],
   "source": [
    "for label in label_ds.take(10):\n",
    "    print(label.numpy())"
   ]
  },
  {
   "cell_type": "code",
   "execution_count": 40,
   "metadata": {},
   "outputs": [
    {
     "name": "stdout",
     "output_type": "stream",
     "text": [
      "tf.Tensor(\n",
      "[[[0.7607843  0.7058824  0.6039216 ]\n",
      "  [0.69411767 0.6392157  0.5372549 ]\n",
      "  [0.6666667  0.6039216  0.5058824 ]\n",
      "  ...\n",
      "  [0.96862745 0.8666667  0.72156864]\n",
      "  [0.96862745 0.8666667  0.72156864]\n",
      "  [0.9647059  0.8627451  0.7176471 ]]\n",
      "\n",
      " [[0.7176471  0.6627451  0.56078434]\n",
      "  [0.63529414 0.5803922  0.47843137]\n",
      "  [0.6313726  0.5686275  0.47058824]\n",
      "  ...\n",
      "  [0.96862745 0.8666667  0.72156864]\n",
      "  [0.9764706  0.8745098  0.7294118 ]\n",
      "  [0.972549   0.87058824 0.7254902 ]]\n",
      "\n",
      " [[0.654902   0.5921569  0.49411765]\n",
      "  [0.6        0.5372549  0.4392157 ]\n",
      "  [0.6117647  0.5411765  0.45490196]\n",
      "  ...\n",
      "  [0.94509804 0.84313726 0.69803923]\n",
      "  [0.9607843  0.85882354 0.7137255 ]\n",
      "  [0.972549   0.87058824 0.7254902 ]]\n",
      "\n",
      " ...\n",
      "\n",
      " [[0.7411765  0.6156863  0.5176471 ]\n",
      "  [0.7411765  0.6156863  0.5176471 ]\n",
      "  [0.7372549  0.6117647  0.5137255 ]\n",
      "  ...\n",
      "  [0.7764706  0.6901961  0.6       ]\n",
      "  [0.7529412  0.6666667  0.5764706 ]\n",
      "  [0.7137255  0.627451   0.5372549 ]]\n",
      "\n",
      " [[0.7411765  0.6156863  0.5176471 ]\n",
      "  [0.7372549  0.6117647  0.5137255 ]\n",
      "  [0.73333335 0.60784316 0.50980395]\n",
      "  ...\n",
      "  [0.69411767 0.60784316 0.5176471 ]\n",
      "  [0.6784314  0.5921569  0.5019608 ]\n",
      "  [0.68235296 0.59607846 0.5058824 ]]\n",
      "\n",
      " [[0.7372549  0.6117647  0.5137255 ]\n",
      "  [0.7372549  0.6117647  0.5137255 ]\n",
      "  [0.73333335 0.60784316 0.50980395]\n",
      "  ...\n",
      "  [0.65882355 0.57254905 0.48235294]\n",
      "  [0.6862745  0.6        0.50980395]\n",
      "  [0.7411765  0.654902   0.5647059 ]]], shape=(256, 256, 3), dtype=float32)\n",
      "tf.Tensor(\n",
      "[[[0.6666667  0.67058825 0.64705884]\n",
      "  [0.64705884 0.6509804  0.627451  ]\n",
      "  [0.6627451  0.6666667  0.63529414]\n",
      "  ...\n",
      "  [0.8509804  0.85490197 0.8235294 ]\n",
      "  [0.84705883 0.8509804  0.81960785]\n",
      "  [0.84705883 0.8509804  0.81960785]]\n",
      "\n",
      " [[0.58431375 0.5882353  0.5647059 ]\n",
      "  [0.5529412  0.5568628  0.53333336]\n",
      "  [0.5568628  0.56078434 0.5294118 ]\n",
      "  ...\n",
      "  [0.85490197 0.85882354 0.827451  ]\n",
      "  [0.8509804  0.85490197 0.8235294 ]\n",
      "  [0.84705883 0.8509804  0.81960785]]\n",
      "\n",
      " [[0.5764706  0.5803922  0.5568628 ]\n",
      "  [0.5254902  0.5294118  0.5058824 ]\n",
      "  [0.5176471  0.52156866 0.49019608]\n",
      "  ...\n",
      "  [0.85882354 0.8627451  0.83137256]\n",
      "  [0.85490197 0.85882354 0.827451  ]\n",
      "  [0.8509804  0.85490197 0.8235294 ]]\n",
      "\n",
      " ...\n",
      "\n",
      " [[0.70980394 0.7607843  0.73333335]\n",
      "  [0.7058824  0.75686276 0.7294118 ]\n",
      "  [0.69803923 0.7490196  0.72156864]\n",
      "  ...\n",
      "  [0.85882354 0.8666667  0.8235294 ]\n",
      "  [0.85490197 0.8627451  0.81960785]\n",
      "  [0.8509804  0.85882354 0.8156863 ]]\n",
      "\n",
      " [[0.7058824  0.7490196  0.7254902 ]\n",
      "  [0.7058824  0.7490196  0.7254902 ]\n",
      "  [0.69803923 0.7411765  0.7176471 ]\n",
      "  ...\n",
      "  [0.85490197 0.8627451  0.81960785]\n",
      "  [0.8509804  0.85882354 0.8156863 ]\n",
      "  [0.84705883 0.85490197 0.8117647 ]]\n",
      "\n",
      " [[0.6392157  0.68235296 0.65882355]\n",
      "  [0.6392157  0.68235296 0.65882355]\n",
      "  [0.64705884 0.68235296 0.6627451 ]\n",
      "  ...\n",
      "  [0.85490197 0.8627451  0.81960785]\n",
      "  [0.84705883 0.85490197 0.8117647 ]\n",
      "  [0.84313726 0.8509804  0.80784315]]], shape=(256, 256, 3), dtype=float32)\n"
     ]
    }
   ],
   "source": [
    "for img in image_dataset.take(2):\n",
    "    print(img)"
   ]
  },
  {
   "cell_type": "code",
   "execution_count": 41,
   "metadata": {},
   "outputs": [
    {
     "data": {
      "text/plain": [
       "<MapDataset shapes: (256, 256, 3), types: tf.float32>"
      ]
     },
     "execution_count": 41,
     "metadata": {},
     "output_type": "execute_result"
    }
   ],
   "source": [
    "image_dataset"
   ]
  },
  {
   "cell_type": "code",
   "execution_count": 42,
   "metadata": {},
   "outputs": [],
   "source": [
    "dataset = tf.data.Dataset.zip((image_dataset,label_ds))"
   ]
  },
  {
   "cell_type": "code",
   "execution_count": 43,
   "metadata": {},
   "outputs": [
    {
     "data": {
      "text/plain": [
       "<ZipDataset shapes: ((256, 256, 3), ()), types: (tf.float32, tf.int32)>"
      ]
     },
     "execution_count": 43,
     "metadata": {},
     "output_type": "execute_result"
    }
   ],
   "source": [
    "dataset"
   ]
  },
  {
   "cell_type": "code",
   "execution_count": 44,
   "metadata": {},
   "outputs": [],
   "source": [
    "test_count = int(image_count*0.2)\n",
    "train_count = image_count -test_count\n"
   ]
  },
  {
   "cell_type": "code",
   "execution_count": 45,
   "metadata": {},
   "outputs": [],
   "source": [
    "train_dataset  = dataset.skip(test_count)"
   ]
  },
  {
   "cell_type": "code",
   "execution_count": 46,
   "metadata": {},
   "outputs": [
    {
     "data": {
      "text/plain": [
       "<SkipDataset shapes: ((256, 256, 3), ()), types: (tf.float32, tf.int32)>"
      ]
     },
     "execution_count": 46,
     "metadata": {},
     "output_type": "execute_result"
    }
   ],
   "source": [
    "train_dataset"
   ]
  },
  {
   "cell_type": "code",
   "execution_count": 47,
   "metadata": {},
   "outputs": [],
   "source": [
    "test_dataset = dataset.take(test_count)"
   ]
  },
  {
   "cell_type": "code",
   "execution_count": 48,
   "metadata": {},
   "outputs": [],
   "source": [
    "BATCH_SIZE = 32"
   ]
  },
  {
   "cell_type": "code",
   "execution_count": 49,
   "metadata": {},
   "outputs": [],
   "source": [
    "train_dataset =train_dataset.shuffle(buffer_size=train_count).repeat().batch(BATCH_SIZE)"
   ]
  },
  {
   "cell_type": "code",
   "execution_count": 50,
   "metadata": {},
   "outputs": [],
   "source": [
    "test_dataset  = test_dataset.batch(BATCH_SIZE).repeat()"
   ]
  },
  {
   "cell_type": "markdown",
   "metadata": {},
   "source": [
    "# 建立模型"
   ]
  },
  {
   "cell_type": "code",
   "execution_count": 72,
   "metadata": {},
   "outputs": [],
   "source": [
    "model = tf.keras.Sequential()\n",
    "model.add(tf.keras.layers.Conv2D(64,(3,3),\n",
    "             input_shape=(256,256,3),activation='relu'))\n",
    "model.add(tf.keras.layers.BatchNormalization())\n",
    "model.add(tf.keras.)\n",
    "model.add(tf.keras.layers.Conv2D(64,(3,3),activation='relu'))\n",
    "model.add(tf.keras.layers.MaxPooling2D())\n",
    "# model.add(tf.keras.layers.Conv2D(128,(3,3),activation='relu'))\n",
    "# model.add(tf.keras.layers.Conv2D(128,(3,3),activation='relu'))\n",
    "# model.add(tf.keras.layers.MaxPooling2D())\n",
    "# model.add(tf.keras.layers.Conv2D(256,(3,3),activation='relu'))\n",
    "# model.add(tf.keras.layers.Conv2D(256,(3,3),activation='relu'))\n",
    "# model.add(tf.keras.layers.MaxPooling2D())\n",
    "# model.add(tf.keras.layers.Conv2D(512,(3,3),activation='relu'))\n",
    "# model.add(tf.keras.layers.MaxPooling2D())\n",
    "# model.add(tf.keras.layers.Conv2D(512,(3,3),activation='relu'))\n",
    "# model.add(tf.keras.layers.MaxPooling2D())\n",
    "# model.add(tf.keras.layers.Conv2D(1024,(3,3),activation='relu'))\n",
    "model.add(tf.keras.layers.GlobalAveragePooling2D())\n",
    "# model.add(tf.keras.layers.Dense(1024,activation='relu'))\n",
    "# model.add(tf.keras.layers.Dense(256,activation='relu'))\n",
    "model.add(tf.keras.layers.Dense(1,activation='sigmoid'))"
   ]
  },
  {
   "cell_type": "code",
   "execution_count": 73,
   "metadata": {},
   "outputs": [
    {
     "name": "stdout",
     "output_type": "stream",
     "text": [
      "Model: \"sequential_4\"\n",
      "_________________________________________________________________\n",
      "Layer (type)                 Output Shape              Param #   \n",
      "=================================================================\n",
      "conv2d_15 (Conv2D)           (None, 254, 254, 64)      1792      \n",
      "_________________________________________________________________\n",
      "conv2d_16 (Conv2D)           (None, 252, 252, 64)      36928     \n",
      "_________________________________________________________________\n",
      "max_pooling2d_8 (MaxPooling2 (None, 126, 126, 64)      0         \n",
      "_________________________________________________________________\n",
      "global_average_pooling2d_4 ( (None, 64)                0         \n",
      "_________________________________________________________________\n",
      "dense_8 (Dense)              (None, 1)                 65        \n",
      "=================================================================\n",
      "Total params: 38,785\n",
      "Trainable params: 38,785\n",
      "Non-trainable params: 0\n",
      "_________________________________________________________________\n"
     ]
    }
   ],
   "source": [
    "model.summary()"
   ]
  },
  {
   "cell_type": "code",
   "execution_count": 74,
   "metadata": {},
   "outputs": [],
   "source": [
    "model.compile(optimizer='adam',\n",
    "             loss = 'binary_crossentropy',\n",
    "             metrics =[ 'acc'])"
   ]
  },
  {
   "cell_type": "code",
   "execution_count": 75,
   "metadata": {},
   "outputs": [],
   "source": [
    "step_epoch = train_count//BATCH_SIZE\n",
    "validation_steps = test_count//BATCH_SIZE"
   ]
  },
  {
   "cell_type": "code",
   "execution_count": null,
   "metadata": {},
   "outputs": [
    {
     "name": "stdout",
     "output_type": "stream",
     "text": [
      "Train for 35 steps, validate for 8 steps\n",
      "Epoch 1/10\n",
      "27/35 [======================>.......] - ETA: 34s - loss: -2.2918 - acc: 0.4838"
     ]
    }
   ],
   "source": [
    "model.fit(train_dataset,epochs=10,steps_per_epoch=step_epoch,\n",
    "         validation_data=test_dataset,validation_steps=validation_steps)"
   ]
  },
  {
   "cell_type": "code",
   "execution_count": null,
   "metadata": {},
   "outputs": [],
   "source": []
  },
  {
   "cell_type": "code",
   "execution_count": null,
   "metadata": {},
   "outputs": [],
   "source": []
  }
 ],
 "metadata": {
  "kernelspec": {
   "display_name": "Python 3",
   "language": "python",
   "name": "python3"
  },
  "language_info": {
   "codemirror_mode": {
    "name": "ipython",
    "version": 3
   },
   "file_extension": ".py",
   "mimetype": "text/x-python",
   "name": "python",
   "nbconvert_exporter": "python",
   "pygments_lexer": "ipython3",
   "version": "3.7.6"
  }
 },
 "nbformat": 4,
 "nbformat_minor": 4
}
